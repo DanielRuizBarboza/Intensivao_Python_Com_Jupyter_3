{
 "cells": [
  {
   "cell_type": "markdown",
   "metadata": {},
   "source": [
    "# Automação Web e Busca de Informações com Python\n",
    "\n",
    "#### Desafio: \n",
    "\n",
    "Trabalhamos em uma importadora e o preço dos nossos produtos é vinculado a cotação de:\n",
    "- Dólar\n",
    "- Euro\n",
    "- Ouro\n",
    "\n",
    "Precisamos pegar na internet, de forma automática, a cotação desses 3 itens e saber quanto devemos cobrar pelos nossos produtos, considerando uma margem de contribuição que temos na nossa base de dados.\n",
    "\n",
    "Base de Dados: https://drive.google.com/drive/folders/1KmAdo593nD8J9QBaZxPOG1yxHZua4Rtv?usp=sharing\n",
    "\n",
    "Para isso, vamos criar uma automação web:\n",
    "\n",
    "- Usaremos o selenium\n",
    "- Importante: baixar o webdriver"
   ]
  },
  {
   "cell_type": "code",
   "execution_count": 22,
   "metadata": {},
   "outputs": [
    {
     "name": "stdout",
     "output_type": "stream",
     "text": [
      "5.2442\n",
      "5.342712297\n",
      "292.78\n"
     ]
    }
   ],
   "source": [
    "from selenium import webdriver\n",
    "from selenium.webdriver.common.keys import Keys\n",
    "from selenium.webdriver.common.by import By\n",
    "\n",
    "\n",
    "# Passo 1: Pegar a cotação do dólar.\n",
    "    # Abrir o navegador.\n",
    "navegador = webdriver.Edge()\n",
    "    \n",
    "    # Entrar no google.\n",
    "navegador.get(\"https://google.com.br/\")\n",
    "\n",
    "    # Pesquisar cotação do dólar no google.\n",
    "navegador.find_element(\"xpath\", \n",
    "                       \"/html/body/div[1]/div[3]/form/div[1]/div[1]/div[1]/div/div[2]/input\"\n",
    "                      ).send_keys(\"cotação dólar\")\n",
    "navegador.find_element(\"xpath\", \n",
    "                       \"/html/body/div[1]/div[3]/form/div[1]/div[1]/div[1]/div/div[2]/input\"\n",
    "                      ).send_keys(Keys.ENTER)\n",
    "    # Pegar a cotação.\n",
    "cotacao_dolar = navegador.find_element(\"xpath\", \n",
    "                     '//*[@id=\"knowledge-currency__updatable-data-column\"]/div[1]/div[2]/span[1]'\n",
    "                                    ).get_attribute(\"data-value\")\n",
    "\n",
    "    \n",
    "    # Passo 2: Pegar a cotação do euro.\n",
    "navegador.get(\"https://google.com.br/\")\n",
    "navegador.find_element(\"xpath\", \n",
    "                       \"/html/body/div[1]/div[3]/form/div[1]/div[1]/div[1]/div/div[2]/input\"\n",
    "                      ).send_keys(\"cotação euro\")\n",
    "navegador.find_element(\"xpath\", \n",
    "                       \"/html/body/div[1]/div[3]/form/div[1]/div[1]/div[1]/div/div[2]/input\"\n",
    "                      ).send_keys(Keys.ENTER)\n",
    "    # Pegar a cotação.\n",
    "cotacao_euro = navegador.find_element(\"xpath\", \n",
    "                     '//*[@id=\"knowledge-currency__updatable-data-column\"]/div[1]/div[2]/span[1]'\n",
    "                                     ).get_attribute(\"data-value\")\n",
    "\n",
    "# Passo 3: Pegar a cotação do ouro.\n",
    "navegador.get('https://www.melhorcambio.com/ouro-hoje')\n",
    "\n",
    "cotacao_ouro = navegador.find_element(\"xpath\", '//*[@id=\"comercial\"]').get_attribute(\"value\").replace(\",\",\".\")\n",
    "\n",
    "# Passo 4: Atualizar a base de dados.\n",
    "# Passo 5: Recalcular os preços.\n",
    "# Passo 6: Exportar a base de dados.\n",
    "print(cotacao_dolar)\n",
    "print(cotacao_euro)\n",
    "print(cotacao_ouro)\n",
    "\n",
    "navegador.quit()"
   ]
  },
  {
   "cell_type": "markdown",
   "metadata": {},
   "source": [
    "### Agora vamos atualiza a nossa base de preços com as novas cotações"
   ]
  },
  {
   "cell_type": "markdown",
   "metadata": {},
   "source": [
    "- Importando a base de dados"
   ]
  },
  {
   "cell_type": "markdown",
   "metadata": {},
   "source": [
    "- Atualizando os preços e o cálculo do Preço Final"
   ]
  },
  {
   "cell_type": "code",
   "execution_count": 31,
   "metadata": {
    "scrolled": true
   },
   "outputs": [
    {
     "data": {
      "text/html": [
       "<div>\n",
       "<style scoped>\n",
       "    .dataframe tbody tr th:only-of-type {\n",
       "        vertical-align: middle;\n",
       "    }\n",
       "\n",
       "    .dataframe tbody tr th {\n",
       "        vertical-align: top;\n",
       "    }\n",
       "\n",
       "    .dataframe thead th {\n",
       "        text-align: right;\n",
       "    }\n",
       "</style>\n",
       "<table border=\"1\" class=\"dataframe\">\n",
       "  <thead>\n",
       "    <tr style=\"text-align: right;\">\n",
       "      <th></th>\n",
       "      <th>Produtos</th>\n",
       "      <th>Preço Original</th>\n",
       "      <th>Moeda</th>\n",
       "      <th>Cotação</th>\n",
       "      <th>Preço de Compra</th>\n",
       "      <th>Margem</th>\n",
       "      <th>Preço de Venda</th>\n",
       "    </tr>\n",
       "  </thead>\n",
       "  <tbody>\n",
       "    <tr>\n",
       "      <th>0</th>\n",
       "      <td>Câmera Canon</td>\n",
       "      <td>999.99</td>\n",
       "      <td>Dólar</td>\n",
       "      <td>5.244200</td>\n",
       "      <td>5244.147558</td>\n",
       "      <td>1.40</td>\n",
       "      <td>7341.806581</td>\n",
       "    </tr>\n",
       "    <tr>\n",
       "      <th>1</th>\n",
       "      <td>Carro Renault</td>\n",
       "      <td>4500.00</td>\n",
       "      <td>Euro</td>\n",
       "      <td>5.342712</td>\n",
       "      <td>24042.205337</td>\n",
       "      <td>2.00</td>\n",
       "      <td>48084.410673</td>\n",
       "    </tr>\n",
       "    <tr>\n",
       "      <th>2</th>\n",
       "      <td>Notebook Dell</td>\n",
       "      <td>899.99</td>\n",
       "      <td>Dólar</td>\n",
       "      <td>5.244200</td>\n",
       "      <td>4719.727558</td>\n",
       "      <td>1.70</td>\n",
       "      <td>8023.536849</td>\n",
       "    </tr>\n",
       "    <tr>\n",
       "      <th>3</th>\n",
       "      <td>IPhone</td>\n",
       "      <td>799.00</td>\n",
       "      <td>Dólar</td>\n",
       "      <td>5.244200</td>\n",
       "      <td>4190.115800</td>\n",
       "      <td>1.70</td>\n",
       "      <td>7123.196860</td>\n",
       "    </tr>\n",
       "    <tr>\n",
       "      <th>4</th>\n",
       "      <td>Carro Fiat</td>\n",
       "      <td>3000.00</td>\n",
       "      <td>Euro</td>\n",
       "      <td>5.342712</td>\n",
       "      <td>16028.136891</td>\n",
       "      <td>1.90</td>\n",
       "      <td>30453.460093</td>\n",
       "    </tr>\n",
       "    <tr>\n",
       "      <th>5</th>\n",
       "      <td>Celular Xiaomi</td>\n",
       "      <td>480.48</td>\n",
       "      <td>Dólar</td>\n",
       "      <td>5.244200</td>\n",
       "      <td>2519.733216</td>\n",
       "      <td>2.00</td>\n",
       "      <td>5039.466432</td>\n",
       "    </tr>\n",
       "    <tr>\n",
       "      <th>6</th>\n",
       "      <td>Joia 20g</td>\n",
       "      <td>20.00</td>\n",
       "      <td>Ouro</td>\n",
       "      <td>292.780000</td>\n",
       "      <td>5855.600000</td>\n",
       "      <td>1.15</td>\n",
       "      <td>6733.940000</td>\n",
       "    </tr>\n",
       "  </tbody>\n",
       "</table>\n",
       "</div>"
      ],
      "text/plain": [
       "         Produtos  Preço Original  Moeda     Cotação  Preço de Compra  Margem  Preço de Venda\n",
       "0    Câmera Canon          999.99  Dólar    5.244200      5244.147558    1.40     7341.806581\n",
       "1   Carro Renault         4500.00   Euro    5.342712     24042.205337    2.00    48084.410673\n",
       "2   Notebook Dell          899.99  Dólar    5.244200      4719.727558    1.70     8023.536849\n",
       "3          IPhone          799.00  Dólar    5.244200      4190.115800    1.70     7123.196860\n",
       "4      Carro Fiat         3000.00   Euro    5.342712     16028.136891    1.90    30453.460093\n",
       "5  Celular Xiaomi          480.48  Dólar    5.244200      2519.733216    2.00     5039.466432\n",
       "6        Joia 20g           20.00   Ouro  292.780000      5855.600000    1.15     6733.940000"
      ]
     },
     "metadata": {},
     "output_type": "display_data"
    }
   ],
   "source": [
    "# Passo 4: Atualizar a base de dados com os valores da nova cotação.\n",
    "import pandas as pd\n",
    "\n",
    "tabela = pd.read_excel(\"Produtos.xlsx\")\n",
    "\n",
    "tabela.loc[base_dados[\"Moeda\"] == \"Dólar\", \"Cotação\"] = float(cotacao_dolar)\n",
    "tabela.loc[base_dados[\"Moeda\"] == \"Euro\", \"Cotação\"] = float(cotacao_euro)\n",
    "tabela.loc[base_dados[\"Moeda\"] == \"Ouro\", \"Cotação\"] = float(cotacao_ouro)\n",
    "\n",
    "# Passo 5: Recalcular os preços.\n",
    "    # Preço de compra = Preço original * Cotação\n",
    "tabela[\"Preço de Compra\"] = tabela[\"Preço Original\"] * tabela[\"Cotação\"]\n",
    "    # Preço de venda = Preço de compra * Margem\n",
    "tabela[\"Preço de Venda\"] = tabela[\"Preço de Compra\"] * tabela[\"Margem\"]\n",
    "\n",
    "display(tabela)"
   ]
  },
  {
   "cell_type": "markdown",
   "metadata": {},
   "source": [
    "### Agora vamos exportar a nova base de preços atualizada"
   ]
  },
  {
   "cell_type": "code",
   "execution_count": 33,
   "metadata": {},
   "outputs": [],
   "source": [
    "# Passo 6: Exportar a base de dados.\n",
    "tabela.to_excel(\"Produtos Novo.xlsx\", index=False)"
   ]
  },
  {
   "cell_type": "code",
   "execution_count": null,
   "metadata": {},
   "outputs": [],
   "source": []
  }
 ],
 "metadata": {
  "kernelspec": {
   "display_name": "Python 3 (ipykernel)",
   "language": "python",
   "name": "python3"
  },
  "language_info": {
   "codemirror_mode": {
    "name": "ipython",
    "version": 3
   },
   "file_extension": ".py",
   "mimetype": "text/x-python",
   "name": "python",
   "nbconvert_exporter": "python",
   "pygments_lexer": "ipython3",
   "version": "3.9.12"
  }
 },
 "nbformat": 4,
 "nbformat_minor": 4
}
